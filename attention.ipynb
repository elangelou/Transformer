{
 "cells": [
  {
   "cell_type": "code",
   "execution_count": 3,
   "metadata": {},
   "outputs": [],
   "source": [
    "import torch as t\n",
    "import torch.nn as nn\n",
    "import einops\n",
    "import LayerNorm as LayerNorm\n",
    "\n",
    "class Attention(nn.Module):\n",
    "        \n",
    "    def __init__(self, cfg: LayerNorm.Config):\n",
    "                super().__init__()\n",
    "                self.cfg = cfg\n",
    "                self.W_Q = nn.Parameter(t.empty((cfg.n_heads, cfg.d_model, cfg.d_head)))\n",
    "                self.W_K = nn.Parameter(t.empty((cfg.n_heads, cfg.d_model, cfg.d_head)))\n",
    "                self.W_V = nn.Parameter(t.empty(((cfg.n_heads, cfg.d_model, cfg.d_head))))\n",
    "                self.W_O = nn.Parameter(t.empty(((cfg.n_heads, cfg.d_head, cfg.d_model))))\n",
    "                self.b_Q = nn.Parameter(t.zeros((cfg.n_heads, cfg.d_head)))\n",
    "                self.b_K = nn.Parameter(t.zeros((cfg.n_heads, cfg.d_head)))\n",
    "                self.b_V = nn.Parameter(t.zeros((cfg.n_heads, cfg.d_head)))\n",
    "                self.b_O = nn.Parameter(t.zeros((cfg.d_model)))\n",
    "                nn.init.normal_(self.W_Q, std=self.cfg.init_range)\n",
    "                nn.init.normal_(self.W_K, std=self.cfg.init_range)\n",
    "                nn.init.normal_(self.W_V, std=self.cfg.init_range)\n",
    "                nn.init.normal_(self.W_O, std=self.cfg.init_range)\n",
    "                self.register_buffer(\"IGNORE\", t.tensor(-1e5, dtype=t.float32, device=LayerNorm.device))\n",
    "\n",
    "    def forward(self, normalized_resid_pre):\n",
    "        print(\"normalized_resid_pre shape:\", normalized_resid_pre.shape)\n",
    "        print(\"W_Q shape:\", self.W_Q.shape)\n",
    "        print(\"W_K shape:\", self.W_K.shape)\n",
    "        print(\"W_V shape:\", self.W_V.shape)\n",
    "        print(\"W_O shape:\", self.W_O.shape)\n",
    "        \n",
    "        q = einops.einsum(normalized_resid_pre, self.W_Q, \"batch seq_len d_model, n_heads d_model d_head -> batch seq_len n_heads d_head\") + self.b_Q\n",
    "        k = einops.einsum(normalized_resid_pre, self.W_K, \"batch seq_len d_model, n_heads d_model d_head -> batch seq_len n_heads d_head\") + self.b_K\n",
    "        v = einops.einsum(normalized_resid_pre, self.W_V, \"batch seq_len d_model, n_heads d_model d_head -> batch seq_len n_heads d_head\") + self.b_V\n",
    "\n",
    "        attn_scores = einops.einsum(q, k, \"batch seq_len n_heads d_head, batch seq_len2 n_heads d_head -> batch n_heads seq_len seq_len2\")\n",
    "        \n",
    "        attn_scores_masked = self.apply_causal_mask(attn_scores / self.cfg.d_head ** 0.5)\n",
    "        attn_pattern = attn_scores_masked.softmax(dim=-1)\n",
    "       \n",
    "    \n",
    "        z = einops.einsum(v, attn_pattern, 'batch posn_K nheads d_head , batch nheads posn_Q posn_K -> batch posn_Q nheads d_head')\n",
    "\n",
    "        attn_out = einops.einsum(z, self.W_O, 'batch posn_Q nheads d_head, heads d_head d_model -> batch posn_Q d_model') + self.b_O\n",
    "        return attn_out\n",
    "\n",
    "    def apply_causal_mask(self, attn_scores):\n",
    "        all_ones = t.ones(attn_scores.size(-2), attn_scores.size(-1), device=attn_scores.device)\n",
    "        mask = t.triu(all_ones, diagonal=1).bool()\n",
    "        attn_scores.masked_fill_(mask, self.IGNORE)\n",
    "        return attn_scores\n",
    "        "
   ]
  }
 ],
 "metadata": {
  "kernelspec": {
   "display_name": "experiments",
   "language": "python",
   "name": "python3"
  },
  "language_info": {
   "codemirror_mode": {
    "name": "ipython",
    "version": 3
   },
   "file_extension": ".py",
   "mimetype": "text/x-python",
   "name": "python",
   "nbconvert_exporter": "python",
   "pygments_lexer": "ipython3",
   "version": "3.11.8"
  }
 },
 "nbformat": 4,
 "nbformat_minor": 2
}
