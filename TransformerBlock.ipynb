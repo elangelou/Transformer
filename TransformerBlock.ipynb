{
 "cells": [
  {
   "cell_type": "code",
   "execution_count": null,
   "metadata": {},
   "outputs": [],
   "source": [
    "import torch.nn as nn\n",
    "import LayerNorm\n",
    "import attention\n",
    "import MLP\n",
    "\n",
    "class TransformerBlock(nn.Module):\n",
    "    def __init__(self, cfg: LayerNorm.Config):\n",
    "        super().__init__()\n",
    "        self.cfg = cfg \n",
    "        self.ln1 = LayerNorm.LayerNorm(cfg)\n",
    "        self.attn = attention.Attention(cfg)\n",
    "        self.ln2 = LayerNorm.LayerNorm(cfg)\n",
    "        self.mlp = MLP.MLP(cfg)\n",
    "\n",
    "    def forward(self, resid_pre): \n",
    "        resid_mid = self.attn(self.ln1(resid_pre)) + resid_pre\n",
    "        resid_post = self.mlp(self.ln2(resid_mid)) + resid_mid\n",
    "        return resid_post\n"
   ]
  }
 ],
 "metadata": {
  "language_info": {
   "name": "python"
  }
 },
 "nbformat": 4,
 "nbformat_minor": 2
}
